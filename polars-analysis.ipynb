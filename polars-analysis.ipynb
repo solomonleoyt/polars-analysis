{
 "cells": [
  {
   "cell_type": "code",
   "execution_count": 1,
   "id": "e4255877-6d7a-43a7-94e0-a7b2be5de2dc",
   "metadata": {
    "tags": []
   },
   "outputs": [],
   "source": [
    "import polars as pl\n",
    "from google.cloud import bigquery\n",
    "\n",
    "client = bigquery.Client()"
   ]
  },
  {
   "cell_type": "code",
   "execution_count": 39,
   "id": "d1cab6ca-9955-4a41-8648-9cf5cbb5bbc7",
   "metadata": {
    "tags": []
   },
   "outputs": [],
   "source": [
    "df_polars = pl.from_arrow(client.query(\"SELECT * FROM `soloyt-youtube.dummy_sets.students_1`\").to_arrow())"
   ]
  },
  {
   "cell_type": "code",
   "execution_count": 3,
   "id": "fdabda2a-3c51-449f-b254-d0fb3ca82e3b",
   "metadata": {
    "tags": []
   },
   "outputs": [
    {
     "data": {
      "text/html": [
       "<div><style>\n",
       ".dataframe > thead > tr,\n",
       ".dataframe > tbody > tr {\n",
       "  text-align: right;\n",
       "  white-space: pre-wrap;\n",
       "}\n",
       "</style>\n",
       "<small>shape: (1_000_000, 11)</small><table border=\"1\" class=\"dataframe\"><thead><tr><th>student_id</th><th>first_name</th><th>last_name</th><th>date_of_birth</th><th>gender</th><th>grade_level</th><th>email</th><th>phone_number</th><th>address</th><th>enrollment_date</th><th>gpa</th></tr><tr><td>str</td><td>str</td><td>str</td><td>date</td><td>str</td><td>i64</td><td>str</td><td>str</td><td>str</td><td>date</td><td>f64</td></tr></thead><tbody><tr><td>&quot;ST001091&quot;</td><td>&quot;Isabella&quot;</td><td>&quot;Smith&quot;</td><td>1988-07-11</td><td>&quot;Male&quot;</td><td>2</td><td>&quot;Ava.Brown@studentemail.com&quot;</td><td>&quot;+1-863-759-8459&quot;</td><td>&quot;456&nbsp;Oak&nbsp;Ave&quot;</td><td>2021-07-05</td><td>1.66</td></tr><tr><td>&quot;ST013021&quot;</td><td>&quot;Olivia&quot;</td><td>&quot;Williams&quot;</td><td>1990-11-18</td><td>&quot;Non-Binary&quot;</td><td>9</td><td>&quot;Ava.Brown@studentemail.com&quot;</td><td>&quot;+1-623-396-8779&quot;</td><td>&quot;101&nbsp;Maple&nbsp;Rd&quot;</td><td>2024-04-05</td><td>3.99</td></tr><tr><td>&quot;ST015863&quot;</td><td>&quot;Mason&quot;</td><td>&quot;Brown&quot;</td><td>1991-10-28</td><td>&quot;Other&quot;</td><td>1</td><td>&quot;Ava.Brown@studentemail.com&quot;</td><td>&quot;+1-690-446-3829&quot;</td><td>&quot;456&nbsp;Oak&nbsp;Ave&quot;</td><td>2021-12-20</td><td>0.89</td></tr><tr><td>&quot;ST022375&quot;</td><td>&quot;Ava&quot;</td><td>&quot;Jones&quot;</td><td>1990-04-25</td><td>&quot;Female&quot;</td><td>4</td><td>&quot;Ava.Brown@studentemail.com&quot;</td><td>&quot;+1-681-921-2360&quot;</td><td>&quot;456&nbsp;Oak&nbsp;Ave&quot;</td><td>2021-02-05</td><td>0.88</td></tr><tr><td>&quot;ST022478&quot;</td><td>&quot;Lucas&quot;</td><td>&quot;Smith&quot;</td><td>2008-05-26</td><td>&quot;Other&quot;</td><td>12</td><td>&quot;Ava.Brown@studentemail.com&quot;</td><td>&quot;+1-066-765-9150&quot;</td><td>&quot;101&nbsp;Maple&nbsp;Rd&quot;</td><td>2021-11-03</td><td>1.22</td></tr><tr><td>&hellip;</td><td>&hellip;</td><td>&hellip;</td><td>&hellip;</td><td>&hellip;</td><td>&hellip;</td><td>&hellip;</td><td>&hellip;</td><td>&hellip;</td><td>&hellip;</td><td>&hellip;</td></tr><tr><td>&quot;ST989654&quot;</td><td>&quot;Liam&quot;</td><td>&quot;Smith&quot;</td><td>1998-03-03</td><td>&quot;Female&quot;</td><td>3</td><td>&quot;Isabella.Williams@studentemail…</td><td>&quot;+1-990-680-7280&quot;</td><td>&quot;789&nbsp;Pine&nbsp;Ln&quot;</td><td>2023-01-21</td><td>1.98</td></tr><tr><td>&quot;ST992507&quot;</td><td>&quot;John&quot;</td><td>&quot;Brown&quot;</td><td>1988-05-07</td><td>&quot;Non-Binary&quot;</td><td>10</td><td>&quot;Isabella.Williams@studentemail…</td><td>&quot;+1-948-637-4533&quot;</td><td>&quot;202&nbsp;Elm&nbsp;St&quot;</td><td>2024-07-13</td><td>3.22</td></tr><tr><td>&quot;ST995737&quot;</td><td>&quot;Liam&quot;</td><td>&quot;Johnson&quot;</td><td>1997-03-28</td><td>&quot;Male&quot;</td><td>9</td><td>&quot;Isabella.Williams@studentemail…</td><td>&quot;+1-233-506-1871&quot;</td><td>&quot;456&nbsp;Oak&nbsp;Ave&quot;</td><td>2023-09-13</td><td>3.58</td></tr><tr><td>&quot;ST998331&quot;</td><td>&quot;Isabella&quot;</td><td>&quot;Williams&quot;</td><td>1984-04-23</td><td>&quot;Female&quot;</td><td>3</td><td>&quot;Isabella.Williams@studentemail…</td><td>&quot;+1-547-126-1190&quot;</td><td>&quot;123&nbsp;Main&nbsp;St&quot;</td><td>2023-04-02</td><td>2.21</td></tr><tr><td>&quot;ST998936&quot;</td><td>&quot;Sophia&quot;</td><td>&quot;Johnson&quot;</td><td>2000-12-24</td><td>&quot;Male&quot;</td><td>11</td><td>&quot;Isabella.Williams@studentemail…</td><td>&quot;+1-534-257-9392&quot;</td><td>&quot;202&nbsp;Elm&nbsp;St&quot;</td><td>2024-07-01</td><td>1.99</td></tr></tbody></table></div>"
      ],
      "text/plain": [
       "shape: (1_000_000, 11)\n",
       "┌────────────┬────────────┬───────────┬────────────┬───┬────────────┬───────────┬───────────┬──────┐\n",
       "│ student_id ┆ first_name ┆ last_name ┆ date_of_bi ┆ … ┆ phone_numb ┆ address   ┆ enrollmen ┆ gpa  │\n",
       "│ ---        ┆ ---        ┆ ---       ┆ rth        ┆   ┆ er         ┆ ---       ┆ t_date    ┆ ---  │\n",
       "│ str        ┆ str        ┆ str       ┆ ---        ┆   ┆ ---        ┆ str       ┆ ---       ┆ f64  │\n",
       "│            ┆            ┆           ┆ date       ┆   ┆ str        ┆           ┆ date      ┆      │\n",
       "╞════════════╪════════════╪═══════════╪════════════╪═══╪════════════╪═══════════╪═══════════╪══════╡\n",
       "│ ST001091   ┆ Isabella   ┆ Smith     ┆ 1988-07-11 ┆ … ┆ +1-863-759 ┆ 456 Oak   ┆ 2021-07-0 ┆ 1.66 │\n",
       "│            ┆            ┆           ┆            ┆   ┆ -8459      ┆ Ave       ┆ 5         ┆      │\n",
       "│ ST013021   ┆ Olivia     ┆ Williams  ┆ 1990-11-18 ┆ … ┆ +1-623-396 ┆ 101 Maple ┆ 2024-04-0 ┆ 3.99 │\n",
       "│            ┆            ┆           ┆            ┆   ┆ -8779      ┆ Rd        ┆ 5         ┆      │\n",
       "│ ST015863   ┆ Mason      ┆ Brown     ┆ 1991-10-28 ┆ … ┆ +1-690-446 ┆ 456 Oak   ┆ 2021-12-2 ┆ 0.89 │\n",
       "│            ┆            ┆           ┆            ┆   ┆ -3829      ┆ Ave       ┆ 0         ┆      │\n",
       "│ ST022375   ┆ Ava        ┆ Jones     ┆ 1990-04-25 ┆ … ┆ +1-681-921 ┆ 456 Oak   ┆ 2021-02-0 ┆ 0.88 │\n",
       "│            ┆            ┆           ┆            ┆   ┆ -2360      ┆ Ave       ┆ 5         ┆      │\n",
       "│ ST022478   ┆ Lucas      ┆ Smith     ┆ 2008-05-26 ┆ … ┆ +1-066-765 ┆ 101 Maple ┆ 2021-11-0 ┆ 1.22 │\n",
       "│            ┆            ┆           ┆            ┆   ┆ -9150      ┆ Rd        ┆ 3         ┆      │\n",
       "│ …          ┆ …          ┆ …         ┆ …          ┆ … ┆ …          ┆ …         ┆ …         ┆ …    │\n",
       "│ ST989654   ┆ Liam       ┆ Smith     ┆ 1998-03-03 ┆ … ┆ +1-990-680 ┆ 789 Pine  ┆ 2023-01-2 ┆ 1.98 │\n",
       "│            ┆            ┆           ┆            ┆   ┆ -7280      ┆ Ln        ┆ 1         ┆      │\n",
       "│ ST992507   ┆ John       ┆ Brown     ┆ 1988-05-07 ┆ … ┆ +1-948-637 ┆ 202 Elm   ┆ 2024-07-1 ┆ 3.22 │\n",
       "│            ┆            ┆           ┆            ┆   ┆ -4533      ┆ St        ┆ 3         ┆      │\n",
       "│ ST995737   ┆ Liam       ┆ Johnson   ┆ 1997-03-28 ┆ … ┆ +1-233-506 ┆ 456 Oak   ┆ 2023-09-1 ┆ 3.58 │\n",
       "│            ┆            ┆           ┆            ┆   ┆ -1871      ┆ Ave       ┆ 3         ┆      │\n",
       "│ ST998331   ┆ Isabella   ┆ Williams  ┆ 1984-04-23 ┆ … ┆ +1-547-126 ┆ 123 Main  ┆ 2023-04-0 ┆ 2.21 │\n",
       "│            ┆            ┆           ┆            ┆   ┆ -1190      ┆ St        ┆ 2         ┆      │\n",
       "│ ST998936   ┆ Sophia     ┆ Johnson   ┆ 2000-12-24 ┆ … ┆ +1-534-257 ┆ 202 Elm   ┆ 2024-07-0 ┆ 1.99 │\n",
       "│            ┆            ┆           ┆            ┆   ┆ -9392      ┆ St        ┆ 1         ┆      │\n",
       "└────────────┴────────────┴───────────┴────────────┴───┴────────────┴───────────┴───────────┴──────┘"
      ]
     },
     "execution_count": 3,
     "metadata": {},
     "output_type": "execute_result"
    }
   ],
   "source": [
    "df_polars  # this is a polars data frame"
   ]
  },
  {
   "cell_type": "code",
   "execution_count": 4,
   "id": "fb3a1afb-e742-457f-b0cc-3bdf70606cc3",
   "metadata": {
    "tags": []
   },
   "outputs": [
    {
     "data": {
      "text/html": [
       "<div><style>\n",
       ".dataframe > thead > tr,\n",
       ".dataframe > tbody > tr {\n",
       "  text-align: right;\n",
       "  white-space: pre-wrap;\n",
       "}\n",
       "</style>\n",
       "<small>shape: (9, 12)</small><table border=\"1\" class=\"dataframe\"><thead><tr><th>statistic</th><th>student_id</th><th>first_name</th><th>last_name</th><th>date_of_birth</th><th>gender</th><th>grade_level</th><th>email</th><th>phone_number</th><th>address</th><th>enrollment_date</th><th>gpa</th></tr><tr><td>str</td><td>str</td><td>str</td><td>str</td><td>str</td><td>str</td><td>f64</td><td>str</td><td>str</td><td>str</td><td>str</td><td>f64</td></tr></thead><tbody><tr><td>&quot;count&quot;</td><td>&quot;1000000&quot;</td><td>&quot;1000000&quot;</td><td>&quot;1000000&quot;</td><td>&quot;1000000&quot;</td><td>&quot;1000000&quot;</td><td>1e6</td><td>&quot;1000000&quot;</td><td>&quot;1000000&quot;</td><td>&quot;1000000&quot;</td><td>&quot;1000000&quot;</td><td>1e6</td></tr><tr><td>&quot;null_count&quot;</td><td>&quot;0&quot;</td><td>&quot;0&quot;</td><td>&quot;0&quot;</td><td>&quot;0&quot;</td><td>&quot;0&quot;</td><td>0.0</td><td>&quot;0&quot;</td><td>&quot;0&quot;</td><td>&quot;0&quot;</td><td>&quot;0&quot;</td><td>0.0</td></tr><tr><td>&quot;mean&quot;</td><td>null</td><td>null</td><td>null</td><td>&quot;1996-03-16&nbsp;21:11:24.201000&quot;</td><td>null</td><td>6.502989</td><td>null</td><td>null</td><td>null</td><td>&quot;2022-05-22&nbsp;11:32:46.262000&quot;</td><td>2.001035</td></tr><tr><td>&quot;std&quot;</td><td>null</td><td>null</td><td>null</td><td>null</td><td>null</td><td>3.452961</td><td>null</td><td>null</td><td>null</td><td>null</td><td>1.155013</td></tr><tr><td>&quot;min&quot;</td><td>&quot;ST000001&quot;</td><td>&quot;Ava&quot;</td><td>&quot;Brown&quot;</td><td>&quot;1982-07-10&quot;</td><td>&quot;Female&quot;</td><td>1.0</td><td>&quot;Ava.Brown@studentemail.com&quot;</td><td>&quot;+1-000-000-2010&quot;</td><td>&quot;101&nbsp;Maple&nbsp;Rd&quot;</td><td>&quot;2019-11-23&quot;</td><td>0.0</td></tr><tr><td>&quot;25%&quot;</td><td>null</td><td>null</td><td>null</td><td>&quot;1989-05-16&quot;</td><td>null</td><td>4.0</td><td>null</td><td>null</td><td>null</td><td>&quot;2021-02-21&quot;</td><td>1.0</td></tr><tr><td>&quot;50%&quot;</td><td>null</td><td>null</td><td>null</td><td>&quot;1996-03-16&quot;</td><td>null</td><td>7.0</td><td>null</td><td>null</td><td>null</td><td>&quot;2022-05-22&quot;</td><td>2.0</td></tr><tr><td>&quot;75%&quot;</td><td>null</td><td>null</td><td>null</td><td>&quot;2003-01-20&quot;</td><td>null</td><td>10.0</td><td>null</td><td>null</td><td>null</td><td>&quot;2023-08-21&quot;</td><td>3.0</td></tr><tr><td>&quot;max&quot;</td><td>&quot;ST999999&quot;</td><td>&quot;Sophia&quot;</td><td>&quot;Wilson&quot;</td><td>&quot;2009-11-24&quot;</td><td>&quot;Other&quot;</td><td>12.0</td><td>&quot;Sophia.Wilson@studentemail.com&quot;</td><td>&quot;+1-999-999-9621&quot;</td><td>&quot;789&nbsp;Pine&nbsp;Ln&quot;</td><td>&quot;2024-11-20&quot;</td><td>4.0</td></tr></tbody></table></div>"
      ],
      "text/plain": [
       "shape: (9, 12)\n",
       "┌───────────┬───────────┬───────────┬───────────┬───┬───────────┬───────────┬───────────┬──────────┐\n",
       "│ statistic ┆ student_i ┆ first_nam ┆ last_name ┆ … ┆ phone_num ┆ address   ┆ enrollmen ┆ gpa      │\n",
       "│ ---       ┆ d         ┆ e         ┆ ---       ┆   ┆ ber       ┆ ---       ┆ t_date    ┆ ---      │\n",
       "│ str       ┆ ---       ┆ ---       ┆ str       ┆   ┆ ---       ┆ str       ┆ ---       ┆ f64      │\n",
       "│           ┆ str       ┆ str       ┆           ┆   ┆ str       ┆           ┆ str       ┆          │\n",
       "╞═══════════╪═══════════╪═══════════╪═══════════╪═══╪═══════════╪═══════════╪═══════════╪══════════╡\n",
       "│ count     ┆ 1000000   ┆ 1000000   ┆ 1000000   ┆ … ┆ 1000000   ┆ 1000000   ┆ 1000000   ┆ 1e6      │\n",
       "│ null_coun ┆ 0         ┆ 0         ┆ 0         ┆ … ┆ 0         ┆ 0         ┆ 0         ┆ 0.0      │\n",
       "│ t         ┆           ┆           ┆           ┆   ┆           ┆           ┆           ┆          │\n",
       "│ mean      ┆ null      ┆ null      ┆ null      ┆ … ┆ null      ┆ null      ┆ 2022-05-2 ┆ 2.001035 │\n",
       "│           ┆           ┆           ┆           ┆   ┆           ┆           ┆ 2 11:32:4 ┆          │\n",
       "│           ┆           ┆           ┆           ┆   ┆           ┆           ┆ 6.262000  ┆          │\n",
       "│ std       ┆ null      ┆ null      ┆ null      ┆ … ┆ null      ┆ null      ┆ null      ┆ 1.155013 │\n",
       "│ min       ┆ ST000001  ┆ Ava       ┆ Brown     ┆ … ┆ +1-000-00 ┆ 101 Maple ┆ 2019-11-2 ┆ 0.0      │\n",
       "│           ┆           ┆           ┆           ┆   ┆ 0-2010    ┆ Rd        ┆ 3         ┆          │\n",
       "│ 25%       ┆ null      ┆ null      ┆ null      ┆ … ┆ null      ┆ null      ┆ 2021-02-2 ┆ 1.0      │\n",
       "│           ┆           ┆           ┆           ┆   ┆           ┆           ┆ 1         ┆          │\n",
       "│ 50%       ┆ null      ┆ null      ┆ null      ┆ … ┆ null      ┆ null      ┆ 2022-05-2 ┆ 2.0      │\n",
       "│           ┆           ┆           ┆           ┆   ┆           ┆           ┆ 2         ┆          │\n",
       "│ 75%       ┆ null      ┆ null      ┆ null      ┆ … ┆ null      ┆ null      ┆ 2023-08-2 ┆ 3.0      │\n",
       "│           ┆           ┆           ┆           ┆   ┆           ┆           ┆ 1         ┆          │\n",
       "│ max       ┆ ST999999  ┆ Sophia    ┆ Wilson    ┆ … ┆ +1-999-99 ┆ 789 Pine  ┆ 2024-11-2 ┆ 4.0      │\n",
       "│           ┆           ┆           ┆           ┆   ┆ 9-9621    ┆ Ln        ┆ 0         ┆          │\n",
       "└───────────┴───────────┴───────────┴───────────┴───┴───────────┴───────────┴───────────┴──────────┘"
      ]
     },
     "execution_count": 4,
     "metadata": {},
     "output_type": "execute_result"
    }
   ],
   "source": [
    "df_polars.describe()"
   ]
  },
  {
   "cell_type": "code",
   "execution_count": 5,
   "id": "09fe4eff-07ee-4851-949f-4581b4fa805f",
   "metadata": {
    "tags": []
   },
   "outputs": [],
   "source": [
    "import pandas as pd\n",
    "\n",
    "# Define SQL query\n",
    "query = \"\"\"\n",
    "SELECT * \n",
    "FROM `soloyt-youtube.dummy_sets.students_1`\n",
    "\"\"\"\n",
    "\n",
    "# Execute query and load results into a Pandas DataFrame\n",
    "df_pandas = client.query(query).to_dataframe()"
   ]
  },
  {
   "cell_type": "code",
   "execution_count": 6,
   "id": "a422dcc1-c1ca-4d78-a3b1-11cdfa7bc307",
   "metadata": {
    "tags": []
   },
   "outputs": [
    {
     "data": {
      "text/html": [
       "<div>\n",
       "<style scoped>\n",
       "    .dataframe tbody tr th:only-of-type {\n",
       "        vertical-align: middle;\n",
       "    }\n",
       "\n",
       "    .dataframe tbody tr th {\n",
       "        vertical-align: top;\n",
       "    }\n",
       "\n",
       "    .dataframe thead th {\n",
       "        text-align: right;\n",
       "    }\n",
       "</style>\n",
       "<table border=\"1\" class=\"dataframe\">\n",
       "  <thead>\n",
       "    <tr style=\"text-align: right;\">\n",
       "      <th></th>\n",
       "      <th>student_id</th>\n",
       "      <th>first_name</th>\n",
       "      <th>last_name</th>\n",
       "      <th>date_of_birth</th>\n",
       "      <th>gender</th>\n",
       "      <th>grade_level</th>\n",
       "      <th>email</th>\n",
       "      <th>phone_number</th>\n",
       "      <th>address</th>\n",
       "      <th>enrollment_date</th>\n",
       "      <th>gpa</th>\n",
       "    </tr>\n",
       "  </thead>\n",
       "  <tbody>\n",
       "    <tr>\n",
       "      <th>0</th>\n",
       "      <td>ST001091</td>\n",
       "      <td>Isabella</td>\n",
       "      <td>Smith</td>\n",
       "      <td>1988-07-11</td>\n",
       "      <td>Male</td>\n",
       "      <td>2</td>\n",
       "      <td>Ava.Brown@studentemail.com</td>\n",
       "      <td>+1-863-759-8459</td>\n",
       "      <td>456 Oak Ave</td>\n",
       "      <td>2021-07-05</td>\n",
       "      <td>1.66</td>\n",
       "    </tr>\n",
       "    <tr>\n",
       "      <th>1</th>\n",
       "      <td>ST013021</td>\n",
       "      <td>Olivia</td>\n",
       "      <td>Williams</td>\n",
       "      <td>1990-11-18</td>\n",
       "      <td>Non-Binary</td>\n",
       "      <td>9</td>\n",
       "      <td>Ava.Brown@studentemail.com</td>\n",
       "      <td>+1-623-396-8779</td>\n",
       "      <td>101 Maple Rd</td>\n",
       "      <td>2024-04-05</td>\n",
       "      <td>3.99</td>\n",
       "    </tr>\n",
       "    <tr>\n",
       "      <th>2</th>\n",
       "      <td>ST015863</td>\n",
       "      <td>Mason</td>\n",
       "      <td>Brown</td>\n",
       "      <td>1991-10-28</td>\n",
       "      <td>Other</td>\n",
       "      <td>1</td>\n",
       "      <td>Ava.Brown@studentemail.com</td>\n",
       "      <td>+1-690-446-3829</td>\n",
       "      <td>456 Oak Ave</td>\n",
       "      <td>2021-12-20</td>\n",
       "      <td>0.89</td>\n",
       "    </tr>\n",
       "    <tr>\n",
       "      <th>3</th>\n",
       "      <td>ST022375</td>\n",
       "      <td>Ava</td>\n",
       "      <td>Jones</td>\n",
       "      <td>1990-04-25</td>\n",
       "      <td>Female</td>\n",
       "      <td>4</td>\n",
       "      <td>Ava.Brown@studentemail.com</td>\n",
       "      <td>+1-681-921-2360</td>\n",
       "      <td>456 Oak Ave</td>\n",
       "      <td>2021-02-05</td>\n",
       "      <td>0.88</td>\n",
       "    </tr>\n",
       "    <tr>\n",
       "      <th>4</th>\n",
       "      <td>ST022478</td>\n",
       "      <td>Lucas</td>\n",
       "      <td>Smith</td>\n",
       "      <td>2008-05-26</td>\n",
       "      <td>Other</td>\n",
       "      <td>12</td>\n",
       "      <td>Ava.Brown@studentemail.com</td>\n",
       "      <td>+1-066-765-9150</td>\n",
       "      <td>101 Maple Rd</td>\n",
       "      <td>2021-11-03</td>\n",
       "      <td>1.22</td>\n",
       "    </tr>\n",
       "    <tr>\n",
       "      <th>...</th>\n",
       "      <td>...</td>\n",
       "      <td>...</td>\n",
       "      <td>...</td>\n",
       "      <td>...</td>\n",
       "      <td>...</td>\n",
       "      <td>...</td>\n",
       "      <td>...</td>\n",
       "      <td>...</td>\n",
       "      <td>...</td>\n",
       "      <td>...</td>\n",
       "      <td>...</td>\n",
       "    </tr>\n",
       "    <tr>\n",
       "      <th>999995</th>\n",
       "      <td>ST989654</td>\n",
       "      <td>Liam</td>\n",
       "      <td>Smith</td>\n",
       "      <td>1998-03-03</td>\n",
       "      <td>Female</td>\n",
       "      <td>3</td>\n",
       "      <td>Isabella.Williams@studentemail.com</td>\n",
       "      <td>+1-990-680-7280</td>\n",
       "      <td>789 Pine Ln</td>\n",
       "      <td>2023-01-21</td>\n",
       "      <td>1.98</td>\n",
       "    </tr>\n",
       "    <tr>\n",
       "      <th>999996</th>\n",
       "      <td>ST992507</td>\n",
       "      <td>John</td>\n",
       "      <td>Brown</td>\n",
       "      <td>1988-05-07</td>\n",
       "      <td>Non-Binary</td>\n",
       "      <td>10</td>\n",
       "      <td>Isabella.Williams@studentemail.com</td>\n",
       "      <td>+1-948-637-4533</td>\n",
       "      <td>202 Elm St</td>\n",
       "      <td>2024-07-13</td>\n",
       "      <td>3.22</td>\n",
       "    </tr>\n",
       "    <tr>\n",
       "      <th>999997</th>\n",
       "      <td>ST995737</td>\n",
       "      <td>Liam</td>\n",
       "      <td>Johnson</td>\n",
       "      <td>1997-03-28</td>\n",
       "      <td>Male</td>\n",
       "      <td>9</td>\n",
       "      <td>Isabella.Williams@studentemail.com</td>\n",
       "      <td>+1-233-506-1871</td>\n",
       "      <td>456 Oak Ave</td>\n",
       "      <td>2023-09-13</td>\n",
       "      <td>3.58</td>\n",
       "    </tr>\n",
       "    <tr>\n",
       "      <th>999998</th>\n",
       "      <td>ST998331</td>\n",
       "      <td>Isabella</td>\n",
       "      <td>Williams</td>\n",
       "      <td>1984-04-23</td>\n",
       "      <td>Female</td>\n",
       "      <td>3</td>\n",
       "      <td>Isabella.Williams@studentemail.com</td>\n",
       "      <td>+1-547-126-1190</td>\n",
       "      <td>123 Main St</td>\n",
       "      <td>2023-04-02</td>\n",
       "      <td>2.21</td>\n",
       "    </tr>\n",
       "    <tr>\n",
       "      <th>999999</th>\n",
       "      <td>ST998936</td>\n",
       "      <td>Sophia</td>\n",
       "      <td>Johnson</td>\n",
       "      <td>2000-12-24</td>\n",
       "      <td>Male</td>\n",
       "      <td>11</td>\n",
       "      <td>Isabella.Williams@studentemail.com</td>\n",
       "      <td>+1-534-257-9392</td>\n",
       "      <td>202 Elm St</td>\n",
       "      <td>2024-07-01</td>\n",
       "      <td>1.99</td>\n",
       "    </tr>\n",
       "  </tbody>\n",
       "</table>\n",
       "<p>1000000 rows × 11 columns</p>\n",
       "</div>"
      ],
      "text/plain": [
       "       student_id first_name last_name date_of_birth      gender  grade_level  \\\n",
       "0        ST001091   Isabella     Smith    1988-07-11        Male            2   \n",
       "1        ST013021     Olivia  Williams    1990-11-18  Non-Binary            9   \n",
       "2        ST015863      Mason     Brown    1991-10-28       Other            1   \n",
       "3        ST022375        Ava     Jones    1990-04-25      Female            4   \n",
       "4        ST022478      Lucas     Smith    2008-05-26       Other           12   \n",
       "...           ...        ...       ...           ...         ...          ...   \n",
       "999995   ST989654       Liam     Smith    1998-03-03      Female            3   \n",
       "999996   ST992507       John     Brown    1988-05-07  Non-Binary           10   \n",
       "999997   ST995737       Liam   Johnson    1997-03-28        Male            9   \n",
       "999998   ST998331   Isabella  Williams    1984-04-23      Female            3   \n",
       "999999   ST998936     Sophia   Johnson    2000-12-24        Male           11   \n",
       "\n",
       "                                     email     phone_number       address  \\\n",
       "0               Ava.Brown@studentemail.com  +1-863-759-8459   456 Oak Ave   \n",
       "1               Ava.Brown@studentemail.com  +1-623-396-8779  101 Maple Rd   \n",
       "2               Ava.Brown@studentemail.com  +1-690-446-3829   456 Oak Ave   \n",
       "3               Ava.Brown@studentemail.com  +1-681-921-2360   456 Oak Ave   \n",
       "4               Ava.Brown@studentemail.com  +1-066-765-9150  101 Maple Rd   \n",
       "...                                    ...              ...           ...   \n",
       "999995  Isabella.Williams@studentemail.com  +1-990-680-7280   789 Pine Ln   \n",
       "999996  Isabella.Williams@studentemail.com  +1-948-637-4533    202 Elm St   \n",
       "999997  Isabella.Williams@studentemail.com  +1-233-506-1871   456 Oak Ave   \n",
       "999998  Isabella.Williams@studentemail.com  +1-547-126-1190   123 Main St   \n",
       "999999  Isabella.Williams@studentemail.com  +1-534-257-9392    202 Elm St   \n",
       "\n",
       "       enrollment_date   gpa  \n",
       "0           2021-07-05  1.66  \n",
       "1           2024-04-05  3.99  \n",
       "2           2021-12-20  0.89  \n",
       "3           2021-02-05  0.88  \n",
       "4           2021-11-03  1.22  \n",
       "...                ...   ...  \n",
       "999995      2023-01-21  1.98  \n",
       "999996      2024-07-13  3.22  \n",
       "999997      2023-09-13  3.58  \n",
       "999998      2023-04-02  2.21  \n",
       "999999      2024-07-01  1.99  \n",
       "\n",
       "[1000000 rows x 11 columns]"
      ]
     },
     "execution_count": 6,
     "metadata": {},
     "output_type": "execute_result"
    }
   ],
   "source": [
    "df_pandas"
   ]
  },
  {
   "cell_type": "code",
   "execution_count": 7,
   "id": "cb42a4fd-196d-4223-a6ef-fe45f3bee94a",
   "metadata": {
    "tags": []
   },
   "outputs": [],
   "source": [
    "import time"
   ]
  },
  {
   "cell_type": "markdown",
   "id": "e53238bd-5d9e-4c94-93bd-0f4294a00df3",
   "metadata": {},
   "source": [
    "Filter students in grade level 10 or above with GPA greater than 3.5."
   ]
  },
  {
   "cell_type": "code",
   "execution_count": 8,
   "id": "bc85e370-a015-4b7f-9af3-5bd9c67d5e4a",
   "metadata": {
    "tags": []
   },
   "outputs": [
    {
     "name": "stdout",
     "output_type": "stream",
     "text": [
      "Pandas time: 0.026892 seconds\n",
      "Polars time: 0.009641 seconds\n"
     ]
    }
   ],
   "source": [
    "# Pandas Filtering\n",
    "start = time.time()\n",
    "filtered_pandas = df_pandas[(df_pandas[\"grade_level\"] >= 10) & (df_pandas[\"gpa\"] > 3.5)]\n",
    "pandas_time = time.time() - start\n",
    "\n",
    "# Polars Filtering\n",
    "start = time.time()\n",
    "filtered_polars = df_polars.filter((pl.col(\"grade_level\") >= 10) & (pl.col(\"gpa\") > 3.5))\n",
    "polars_time = time.time() - start\n",
    "\n",
    "print(f\"Pandas time: {pandas_time:.6f} seconds\")\n",
    "print(f\"Polars time: {polars_time:.6f} seconds\")"
   ]
  },
  {
   "cell_type": "markdown",
   "id": "99fbf398-6242-4b47-8d52-7d3409258266",
   "metadata": {},
   "source": [
    "Find the average GPA for each grade level."
   ]
  },
  {
   "cell_type": "code",
   "execution_count": 9,
   "id": "3c86f77c-2005-4b4e-8eb3-96b634c65bc7",
   "metadata": {
    "tags": []
   },
   "outputs": [
    {
     "name": "stdout",
     "output_type": "stream",
     "text": [
      "Pandas time: 0.026709 seconds\n",
      "Polars time: 0.007035 seconds\n"
     ]
    }
   ],
   "source": [
    "# Pandas Group By\n",
    "start = time.time()\n",
    "grouped_pandas = df_pandas.groupby(\"grade_level\")[\"gpa\"].mean()\n",
    "pandas_time = time.time() - start\n",
    "\n",
    "# Polars Group By\n",
    "start = time.time()\n",
    "grouped_polars = df_polars.group_by(\"grade_level\").agg(pl.col(\"gpa\").mean().alias(\"avg_gpa\"))\n",
    "polars_time = time.time() - start\n",
    "\n",
    "print(f\"Pandas time: {pandas_time:.6f} seconds\")\n",
    "print(f\"Polars time: {polars_time:.6f} seconds\")\n"
   ]
  },
  {
   "cell_type": "markdown",
   "id": "ac91c749-b9b9-4ad6-9205-585079163591",
   "metadata": {},
   "source": [
    "Create a new column to classify students into \"High GPA\" (GPA >= 3.5) or \"Low GPA\" (GPA < 3.5)."
   ]
  },
  {
   "cell_type": "code",
   "execution_count": 10,
   "id": "7b20e337-3b86-4b5c-94d3-f18c14d5ebd4",
   "metadata": {
    "tags": []
   },
   "outputs": [
    {
     "name": "stdout",
     "output_type": "stream",
     "text": [
      "Pandas time: 0.214917 seconds\n",
      "Polars time: 0.018173 seconds\n"
     ]
    }
   ],
   "source": [
    "# Pandas Adding Column\n",
    "start = time.time()\n",
    "df_pandas[\"gpa_category\"] = df_pandas[\"gpa\"].apply(lambda x: \"High GPA\" if x >= 3.5 else \"Low GPA\")\n",
    "pandas_time = time.time() - start\n",
    "\n",
    "# Polars Adding Column\n",
    "start = time.time()\n",
    "df_polars = df_polars.with_columns(\n",
    "    pl.when(pl.col(\"gpa\") >= 3.5)\n",
    "    .then(pl.lit(\"High GPA\"))\n",
    "    .otherwise(pl.lit(\"Low GPA\"))\n",
    "    .alias(\"gpa_category\")\n",
    ")\n",
    "polars_time = time.time() - start\n",
    "\n",
    "print(f\"Pandas time: {pandas_time:.6f} seconds\")\n",
    "print(f\"Polars time: {polars_time:.6f} seconds\")\n"
   ]
  },
  {
   "cell_type": "markdown",
   "id": "5cb54510-12f2-4a24-a4bd-5b35a122a9f3",
   "metadata": {},
   "source": [
    "Fill missing values in email and phone_number with \"Not Provided\"."
   ]
  },
  {
   "cell_type": "code",
   "execution_count": 11,
   "id": "79bcc337-8920-4325-a85f-8c4cbd829253",
   "metadata": {
    "tags": []
   },
   "outputs": [
    {
     "name": "stdout",
     "output_type": "stream",
     "text": [
      "Pandas time: 0.155353 seconds\n",
      "Polars time: 0.056157 seconds\n"
     ]
    }
   ],
   "source": [
    "# Pandas Handling Nulls\n",
    "start = time.time()\n",
    "df_pandas[\"email\"] = df_pandas[\"email\"].fillna(\"Not Provided\")\n",
    "df_pandas[\"phone_number\"] = df_pandas[\"phone_number\"].fillna(\"Not Provided\")\n",
    "pandas_time = time.time() - start\n",
    "\n",
    "# Polars Handling Nulls\n",
    "start = time.time()\n",
    "df_polars = df_polars.with_columns([\n",
    "    pl.col(\"email\").fill_null(\"Not Provided\"),\n",
    "    pl.col(\"phone_number\").fill_null(\"Not Provided\")\n",
    "])\n",
    "polars_time = time.time() - start\n",
    "\n",
    "print(f\"Pandas time: {pandas_time:.6f} seconds\")\n",
    "print(f\"Polars time: {polars_time:.6f} seconds\")"
   ]
  },
  {
   "cell_type": "markdown",
   "id": "fce73842-930e-4c9d-bf25-0ca42538942f",
   "metadata": {},
   "source": [
    "Sort students by enrollment_date in ascending order and gpa in descending order."
   ]
  },
  {
   "cell_type": "code",
   "execution_count": 12,
   "id": "210d61bb-8650-4291-96e8-68d3db87f65c",
   "metadata": {
    "tags": []
   },
   "outputs": [
    {
     "name": "stdout",
     "output_type": "stream",
     "text": [
      "Pandas time: 0.710888 seconds\n",
      "Polars time: 0.205118 seconds\n"
     ]
    }
   ],
   "source": [
    "# Pandas Sorting\n",
    "start = time.time()\n",
    "sorted_pandas = df_pandas.sort_values(by=[\"enrollment_date\", \"gpa\"], ascending=[True, False])\n",
    "pandas_time = time.time() - start\n",
    "\n",
    "# Polars Sorting\n",
    "start = time.time()\n",
    "sorted_polars = df_polars.sort([\"enrollment_date\", \"gpa\"], descending=[False, True])\n",
    "polars_time = time.time() - start\n",
    "\n",
    "print(f\"Pandas time: {pandas_time:.6f} seconds\")\n",
    "print(f\"Polars time: {polars_time:.6f} seconds\")"
   ]
  },
  {
   "cell_type": "markdown",
   "id": "09cf1834-1fe8-4ec2-8b1f-bafbd6bb323a",
   "metadata": {},
   "source": [
    "Simulate joining the student dataset with another dataset (e.g., student test scores)."
   ]
  },
  {
   "cell_type": "code",
   "execution_count": 13,
   "id": "7b6a4dba-832d-4d26-865a-3687360ecc6e",
   "metadata": {
    "tags": []
   },
   "outputs": [],
   "source": [
    "# Create a second DataFrame with test scores\n",
    "import numpy as np\n",
    "scores = {\n",
    "    \"student_id\": np.random.choice(df_pandas[\"student_id\"], size=1000000, replace=True),\n",
    "    \"test_score\": np.random.randint(50, 100, size=1000000)\n",
    "}\n",
    "\n",
    "# Pandas and Polars DataFrames for the second dataset\n",
    "df_scores_pandas = pd.DataFrame(scores)\n",
    "df_scores_polars = pl.DataFrame(scores)"
   ]
  },
  {
   "cell_type": "markdown",
   "id": "7d71ab5f-a240-44f5-b7d3-00de666ed52f",
   "metadata": {},
   "source": [
    "Merge Operation"
   ]
  },
  {
   "cell_type": "code",
   "execution_count": 14,
   "id": "73276625-571e-4d1f-a9a2-dd459249259e",
   "metadata": {
    "tags": []
   },
   "outputs": [
    {
     "name": "stdout",
     "output_type": "stream",
     "text": [
      "Pandas time: 0.999589 seconds\n",
      "Polars time: 0.220857 seconds\n"
     ]
    }
   ],
   "source": [
    "# Pandas Merge\n",
    "start = time.time()\n",
    "merged_pandas = pd.merge(df_pandas, df_scores_pandas, on=\"student_id\", how=\"inner\")\n",
    "pandas_time = time.time() - start\n",
    "\n",
    "# Polars Merge\n",
    "start = time.time()\n",
    "merged_polars = df_polars.join(df_scores_polars, on=\"student_id\", how=\"inner\")\n",
    "polars_time = time.time() - start\n",
    "\n",
    "print(f\"Pandas time: {pandas_time:.6f} seconds\")\n",
    "print(f\"Polars time: {polars_time:.6f} seconds\")"
   ]
  },
  {
   "cell_type": "markdown",
   "id": "84ead876-9376-4399-8f8b-a9406dbc5b2a",
   "metadata": {},
   "source": [
    "Perform a transformation that creates a new column based on multiple conditions (e.g., assigning performance categories based on GPA and test scores)."
   ]
  },
  {
   "cell_type": "markdown",
   "id": "376f9a65-eb56-4460-be6d-b3ba94217e9d",
   "metadata": {},
   "source": [
    "Add a Test Score Column for Pandas and Polars"
   ]
  },
  {
   "cell_type": "code",
   "execution_count": 15,
   "id": "456f2b18-284e-4d73-86d5-86236ccb50f9",
   "metadata": {
    "tags": []
   },
   "outputs": [],
   "source": [
    "df_pandas = pd.merge(df_pandas, df_scores_pandas, on=\"student_id\", how=\"inner\")\n",
    "df_polars = df_polars.join(df_scores_polars, on=\"student_id\", how=\"inner\")"
   ]
  },
  {
   "cell_type": "markdown",
   "id": "5802524e-f7d1-4f36-b8a9-9d99800b48f9",
   "metadata": {},
   "source": [
    "Apply Transformation"
   ]
  },
  {
   "cell_type": "code",
   "execution_count": 16,
   "id": "c96ddb92-111c-4dee-93bf-4fc47b30ef2e",
   "metadata": {
    "tags": []
   },
   "outputs": [
    {
     "name": "stdout",
     "output_type": "stream",
     "text": [
      "Pandas time: 17.272588 seconds\n",
      "Polars time: 0.034811 seconds\n"
     ]
    }
   ],
   "source": [
    "# Pandas Transformation\n",
    "start = time.time()\n",
    "df_pandas[\"performance\"] = df_pandas.apply(\n",
    "    lambda row: \"Excellent\" if row[\"gpa\"] >= 3.5 and row[\"test_score\"] >= 90 else\n",
    "                \"Good\" if row[\"gpa\"] >= 3.0 and row[\"test_score\"] >= 80 else\n",
    "                \"Average\",\n",
    "    axis=1\n",
    ")\n",
    "pandas_time = time.time() - start\n",
    "\n",
    "# Polars Transformation\n",
    "start = time.time()\n",
    "df_polars = df_polars.with_columns(\n",
    "    pl.when((pl.col(\"gpa\") >= 3.5) & (pl.col(\"test_score\") >= 90))\n",
    "    .then(pl.lit(\"Excellent\"))\n",
    "    .when((pl.col(\"gpa\") >= 3.0) & (pl.col(\"test_score\") >= 80))\n",
    "    .then(pl.lit(\"Good\"))\n",
    "    .otherwise(pl.lit(\"Average\"))\n",
    "    .alias(\"performance\")\n",
    ")\n",
    "polars_time = time.time() - start\n",
    "\n",
    "print(f\"Pandas time: {pandas_time:.6f} seconds\")\n",
    "print(f\"Polars time: {polars_time:.6f} seconds\")"
   ]
  },
  {
   "cell_type": "markdown",
   "id": "674c5075-9f8f-428c-b263-d220fa635c1c",
   "metadata": {},
   "source": [
    "Simulate a column where students have multiple phone numbers stored as a list, and flatten it into multiple rows."
   ]
  },
  {
   "cell_type": "code",
   "execution_count": 17,
   "id": "9b4933a1-0a95-4fd7-bd27-5c595c29203d",
   "metadata": {
    "tags": []
   },
   "outputs": [],
   "source": [
    "# Create a new column with nested data (list of phone numbers)\n",
    "df_pandas[\"phone_numbers\"] = df_pandas[\"phone_number\"].apply(lambda x: [x, f\"alternate_{x}\"])\n",
    "df_polars = df_polars.with_columns(pl.lit([\"phone1\", \"phone2\"]).alias(\"phone_numbers\"))"
   ]
  },
  {
   "cell_type": "code",
   "execution_count": 18,
   "id": "f5cc4fd7-f8c8-4594-b302-722331a69db4",
   "metadata": {
    "tags": []
   },
   "outputs": [
    {
     "name": "stdout",
     "output_type": "stream",
     "text": [
      "Pandas time: 1.262137 seconds\n",
      "Polars time: 0.147267 seconds\n"
     ]
    }
   ],
   "source": [
    "# Pandas Exploding\n",
    "start = time.time()\n",
    "exploded_pandas = df_pandas.explode(\"phone_numbers\")\n",
    "pandas_time = time.time() - start\n",
    "\n",
    "# Polars Exploding\n",
    "start = time.time()\n",
    "exploded_polars = df_polars.explode(\"phone_numbers\")\n",
    "polars_time = time.time() - start\n",
    "\n",
    "print(f\"Pandas time: {pandas_time:.6f} seconds\")\n",
    "print(f\"Polars time: {polars_time:.6f} seconds\")"
   ]
  },
  {
   "cell_type": "markdown",
   "id": "48e8917e-4fb9-4e95-881a-110354f5a0d9",
   "metadata": {},
   "source": [
    "## SQL Operations"
   ]
  },
  {
   "cell_type": "markdown",
   "id": "d3ae4361-4d16-4782-b4b7-6b27f93df50f",
   "metadata": {},
   "source": [
    "WHERE CLAUSE\n",
    "```sql\n",
    "SELECT * \n",
    "FROM students \n",
    "WHERE grade_level >= 10 AND gpa > 3.5;\n",
    "```"
   ]
  },
  {
   "cell_type": "code",
   "execution_count": 26,
   "id": "fc2507da-8ecb-4548-a58d-8ee02e65450a",
   "metadata": {
    "tags": []
   },
   "outputs": [
    {
     "name": "stdout",
     "output_type": "stream",
     "text": [
      "shape: (30_901, 2)\n",
      "┌─────────────┬──────┐\n",
      "│ grade_level ┆ gpa  │\n",
      "│ ---         ┆ ---  │\n",
      "│ i64         ┆ f64  │\n",
      "╞═════════════╪══════╡\n",
      "│ 11          ┆ 3.72 │\n",
      "│ 12          ┆ 3.61 │\n",
      "│ 10          ┆ 3.96 │\n",
      "│ 11          ┆ 3.87 │\n",
      "│ 11          ┆ 3.71 │\n",
      "│ …           ┆ …    │\n",
      "│ 12          ┆ 3.74 │\n",
      "│ 11          ┆ 3.55 │\n",
      "│ 11          ┆ 3.96 │\n",
      "│ 12          ┆ 3.73 │\n",
      "│ 10          ┆ 3.67 │\n",
      "└─────────────┴──────┘\n"
     ]
    }
   ],
   "source": [
    "filtered_students = (\n",
    "    df_polars\n",
    "    .filter(\n",
    "        (pl.col(\"grade_level\") >= 10) & \n",
    "        (pl.col(\"gpa\") > 3.5)\n",
    "    )\n",
    ")\n",
    "print(filtered_students.select(['grade_level', 'gpa']))"
   ]
  },
  {
   "cell_type": "markdown",
   "id": "6124072c-7ced-46d2-8514-e4dd8ef0c768",
   "metadata": {},
   "source": [
    "GROUP BY\n",
    "```sql\n",
    "SELECT grade_level, AVG(gpa) AS avg_gpa\n",
    "FROM students\n",
    "GROUP BY grade_level;\n",
    "```"
   ]
  },
  {
   "cell_type": "code",
   "execution_count": 27,
   "id": "8af40a62-2c77-42bb-a7f5-0a56e3420d03",
   "metadata": {
    "tags": []
   },
   "outputs": [
    {
     "name": "stdout",
     "output_type": "stream",
     "text": [
      "shape: (12, 2)\n",
      "┌─────────────┬──────────┐\n",
      "│ grade_level ┆ avg_gpa  │\n",
      "│ ---         ┆ ---      │\n",
      "│ i64         ┆ f64      │\n",
      "╞═════════════╪══════════╡\n",
      "│ 1           ┆ 2.006348 │\n",
      "│ 3           ┆ 2.001615 │\n",
      "│ 4           ┆ 1.997741 │\n",
      "│ 10          ┆ 1.996251 │\n",
      "│ 5           ┆ 2.003723 │\n",
      "│ …           ┆ …        │\n",
      "│ 2           ┆ 1.995281 │\n",
      "│ 7           ┆ 1.990359 │\n",
      "│ 9           ┆ 2.00386  │\n",
      "│ 11          ┆ 2.000584 │\n",
      "│ 12          ┆ 2.000759 │\n",
      "└─────────────┴──────────┘\n"
     ]
    }
   ],
   "source": [
    "grouped_students = (\n",
    "    df_polars\n",
    "    .group_by(\"grade_level\")\n",
    "    .agg(\n",
    "        pl.col(\"gpa\").mean().alias(\"avg_gpa\")\n",
    "    )\n",
    ")\n",
    "print(grouped_students)"
   ]
  },
  {
   "cell_type": "markdown",
   "id": "dae469f9-4703-42ae-b052-be923caf76fe",
   "metadata": {},
   "source": [
    "JOIN OPERATION\n",
    "```sql\n",
    "SELECT s.student_id, s.first_name, t.test_score\n",
    "FROM students s\n",
    "INNER JOIN test_scores t\n",
    "ON s.student_id = t.student_id;\n",
    "```"
   ]
  },
  {
   "cell_type": "code",
   "execution_count": 28,
   "id": "b148d32f-6029-4e3c-b0fa-047ba8863a3b",
   "metadata": {
    "tags": []
   },
   "outputs": [
    {
     "name": "stdout",
     "output_type": "stream",
     "text": [
      "shape: (1_998_236, 16)\n",
      "┌───────────┬───────────┬───────────┬───────────┬───┬───────────┬───────────┬───────────┬──────────┐\n",
      "│ student_i ┆ first_nam ┆ last_name ┆ date_of_b ┆ … ┆ test_scor ┆ performan ┆ phone_num ┆ test_sco │\n",
      "│ d         ┆ e         ┆ ---       ┆ irth      ┆   ┆ e         ┆ ce        ┆ bers      ┆ re_right │\n",
      "│ ---       ┆ ---       ┆ str       ┆ ---       ┆   ┆ ---       ┆ ---       ┆ ---       ┆ ---      │\n",
      "│ str       ┆ str       ┆           ┆ date      ┆   ┆ i64       ┆ str       ┆ list[str] ┆ i64      │\n",
      "╞═══════════╪═══════════╪═══════════╪═══════════╪═══╪═══════════╪═══════════╪═══════════╪══════════╡\n",
      "│ ST108429  ┆ Isabella  ┆ Johnson   ┆ 1998-10-0 ┆ … ┆ 53        ┆ Average   ┆ [\"phone1\" ┆ 53       │\n",
      "│           ┆           ┆           ┆ 8         ┆   ┆           ┆           ┆ ,         ┆          │\n",
      "│           ┆           ┆           ┆           ┆   ┆           ┆           ┆ \"phone2\"] ┆          │\n",
      "│ ST108429  ┆ Isabella  ┆ Johnson   ┆ 1998-10-0 ┆ … ┆ 91        ┆ Good      ┆ [\"phone1\" ┆ 53       │\n",
      "│           ┆           ┆           ┆ 8         ┆   ┆           ┆           ┆ ,         ┆          │\n",
      "│           ┆           ┆           ┆           ┆   ┆           ┆           ┆ \"phone2\"] ┆          │\n",
      "│ ST108429  ┆ Isabella  ┆ Johnson   ┆ 1998-10-0 ┆ … ┆ 95        ┆ Good      ┆ [\"phone1\" ┆ 53       │\n",
      "│           ┆           ┆           ┆ 8         ┆   ┆           ┆           ┆ ,         ┆          │\n",
      "│           ┆           ┆           ┆           ┆   ┆           ┆           ┆ \"phone2\"] ┆          │\n",
      "│ ST407989  ┆ Noah      ┆ Brown     ┆ 1983-03-2 ┆ … ┆ 93        ┆ Average   ┆ [\"phone1\" ┆ 93       │\n",
      "│           ┆           ┆           ┆ 6         ┆   ┆           ┆           ┆ ,         ┆          │\n",
      "│           ┆           ┆           ┆           ┆   ┆           ┆           ┆ \"phone2\"] ┆          │\n",
      "│ ST407989  ┆ Noah      ┆ Brown     ┆ 1983-03-2 ┆ … ┆ 71        ┆ Average   ┆ [\"phone1\" ┆ 93       │\n",
      "│           ┆           ┆           ┆ 6         ┆   ┆           ┆           ┆ ,         ┆          │\n",
      "│           ┆           ┆           ┆           ┆   ┆           ┆           ┆ \"phone2\"] ┆          │\n",
      "│ …         ┆ …         ┆ …         ┆ …         ┆ … ┆ …         ┆ …         ┆ …         ┆ …        │\n",
      "│ ST943966  ┆ Isabella  ┆ Wilson    ┆ 2006-09-2 ┆ … ┆ 81        ┆ Average   ┆ [\"phone1\" ┆ 84       │\n",
      "│           ┆           ┆           ┆ 8         ┆   ┆           ┆           ┆ ,         ┆          │\n",
      "│           ┆           ┆           ┆           ┆   ┆           ┆           ┆ \"phone2\"] ┆          │\n",
      "│ ST943966  ┆ Isabella  ┆ Wilson    ┆ 2006-09-2 ┆ … ┆ 84        ┆ Average   ┆ [\"phone1\" ┆ 84       │\n",
      "│           ┆           ┆           ┆ 8         ┆   ┆           ┆           ┆ ,         ┆          │\n",
      "│           ┆           ┆           ┆           ┆   ┆           ┆           ┆ \"phone2\"] ┆          │\n",
      "│ ST140498  ┆ Isabella  ┆ Moore     ┆ 1990-08-1 ┆ … ┆ 69        ┆ Average   ┆ [\"phone1\" ┆ 91       │\n",
      "│           ┆           ┆           ┆ 8         ┆   ┆           ┆           ┆ ,         ┆          │\n",
      "│           ┆           ┆           ┆           ┆   ┆           ┆           ┆ \"phone2\"] ┆          │\n",
      "│ ST140498  ┆ Isabella  ┆ Moore     ┆ 1990-08-1 ┆ … ┆ 91        ┆ Average   ┆ [\"phone1\" ┆ 91       │\n",
      "│           ┆           ┆           ┆ 8         ┆   ┆           ┆           ┆ ,         ┆          │\n",
      "│           ┆           ┆           ┆           ┆   ┆           ┆           ┆ \"phone2\"] ┆          │\n",
      "│ ST324844  ┆ Liam      ┆ Moore     ┆ 1990-12-3 ┆ … ┆ 67        ┆ Average   ┆ [\"phone1\" ┆ 67       │\n",
      "│           ┆           ┆           ┆ 1         ┆   ┆           ┆           ┆ ,         ┆          │\n",
      "│           ┆           ┆           ┆           ┆   ┆           ┆           ┆ \"phone2\"] ┆          │\n",
      "└───────────┴───────────┴───────────┴───────────┴───┴───────────┴───────────┴───────────┴──────────┘\n"
     ]
    }
   ],
   "source": [
    "# Assuming test_scores_polars is another Polars DataFrame\n",
    "joined_data = (\n",
    "    df_polars\n",
    "    .join(df_scores_polars, on=\"student_id\", how=\"inner\")\n",
    ")\n",
    "print(joined_data)"
   ]
  },
  {
   "cell_type": "markdown",
   "id": "3830e520-f891-4e35-a949-4e1dd64fb482",
   "metadata": {},
   "source": [
    "WINDOW FUNCTION\n",
    "```sql\n",
    "SELECT student_id, gpa, RANK() OVER (PARTITION BY grade_level ORDER BY gpa DESC) AS rank\n",
    "FROM students;\n",
    "```"
   ]
  },
  {
   "cell_type": "code",
   "execution_count": 29,
   "id": "f4b7643c-6e5d-4158-b953-f5a8ba594857",
   "metadata": {
    "tags": []
   },
   "outputs": [
    {
     "name": "stdout",
     "output_type": "stream",
     "text": [
      "shape: (12, 16)\n",
      "┌────────────┬────────────┬───────────┬────────────┬───┬────────────┬───────────┬───────────┬──────┐\n",
      "│ student_id ┆ first_name ┆ last_name ┆ date_of_bi ┆ … ┆ test_score ┆ performan ┆ phone_num ┆ rank │\n",
      "│ ---        ┆ ---        ┆ ---       ┆ rth        ┆   ┆ ---        ┆ ce        ┆ bers      ┆ ---  │\n",
      "│ str        ┆ str        ┆ str       ┆ ---        ┆   ┆ i64        ┆ ---       ┆ ---       ┆ u32  │\n",
      "│            ┆            ┆           ┆ date       ┆   ┆            ┆ str       ┆ list[str] ┆      │\n",
      "╞════════════╪════════════╪═══════════╪════════════╪═══╪════════════╪═══════════╪═══════════╪══════╡\n",
      "│ ST512826   ┆ John       ┆ Johnson   ┆ 1998-02-22 ┆ … ┆ 79         ┆ Average   ┆ [\"phone1\" ┆ 1    │\n",
      "│            ┆            ┆           ┆            ┆   ┆            ┆           ┆ ,         ┆      │\n",
      "│            ┆            ┆           ┆            ┆   ┆            ┆           ┆ \"phone2\"] ┆      │\n",
      "│ ST614611   ┆ Lucas      ┆ Moore     ┆ 1991-12-08 ┆ … ┆ 64         ┆ Average   ┆ [\"phone1\" ┆ 1    │\n",
      "│            ┆            ┆           ┆            ┆   ┆            ┆           ┆ ,         ┆      │\n",
      "│            ┆            ┆           ┆            ┆   ┆            ┆           ┆ \"phone2\"] ┆      │\n",
      "│ ST103001   ┆ Lucas      ┆ Brown     ┆ 1989-08-13 ┆ … ┆ 71         ┆ Average   ┆ [\"phone1\" ┆ 1    │\n",
      "│            ┆            ┆           ┆            ┆   ┆            ┆           ┆ ,         ┆      │\n",
      "│            ┆            ┆           ┆            ┆   ┆            ┆           ┆ \"phone2\"] ┆      │\n",
      "│ ST028227   ┆ Ava        ┆ Davis     ┆ 2003-03-15 ┆ … ┆ 96         ┆ Average   ┆ [\"phone1\" ┆ 1    │\n",
      "│            ┆            ┆           ┆            ┆   ┆            ┆           ┆ ,         ┆      │\n",
      "│            ┆            ┆           ┆            ┆   ┆            ┆           ┆ \"phone2\"] ┆      │\n",
      "│ ST907431   ┆ Sophia     ┆ Smith     ┆ 1983-03-28 ┆ … ┆ 64         ┆ Average   ┆ [\"phone1\" ┆ 1    │\n",
      "│            ┆            ┆           ┆            ┆   ┆            ┆           ┆ ,         ┆      │\n",
      "│            ┆            ┆           ┆            ┆   ┆            ┆           ┆ \"phone2\"] ┆      │\n",
      "│ …          ┆ …          ┆ …         ┆ …          ┆ … ┆ …          ┆ …         ┆ …         ┆ …    │\n",
      "│ ST809567   ┆ Lucas      ┆ Davis     ┆ 1989-10-14 ┆ … ┆ 79         ┆ Average   ┆ [\"phone1\" ┆ 1    │\n",
      "│            ┆            ┆           ┆            ┆   ┆            ┆           ┆ ,         ┆      │\n",
      "│            ┆            ┆           ┆            ┆   ┆            ┆           ┆ \"phone2\"] ┆      │\n",
      "│ ST368377   ┆ Emma       ┆ Taylor    ┆ 1993-03-03 ┆ … ┆ 76         ┆ Average   ┆ [\"phone1\" ┆ 1    │\n",
      "│            ┆            ┆           ┆            ┆   ┆            ┆           ┆ ,         ┆      │\n",
      "│            ┆            ┆           ┆            ┆   ┆            ┆           ┆ \"phone2\"] ┆      │\n",
      "│ ST102453   ┆ Liam       ┆ Jones     ┆ 1994-09-10 ┆ … ┆ 74         ┆ Average   ┆ [\"phone1\" ┆ 1    │\n",
      "│            ┆            ┆           ┆            ┆   ┆            ┆           ┆ ,         ┆      │\n",
      "│            ┆            ┆           ┆            ┆   ┆            ┆           ┆ \"phone2\"] ┆      │\n",
      "│ ST764523   ┆ Olivia     ┆ Wilson    ┆ 2007-10-22 ┆ … ┆ 80         ┆ Average   ┆ [\"phone1\" ┆ 1    │\n",
      "│            ┆            ┆           ┆            ┆   ┆            ┆           ┆ ,         ┆      │\n",
      "│            ┆            ┆           ┆            ┆   ┆            ┆           ┆ \"phone2\"] ┆      │\n",
      "│ ST616969   ┆ Emma       ┆ Miller    ┆ 1989-08-31 ┆ … ┆ 56         ┆ Average   ┆ [\"phone1\" ┆ 1    │\n",
      "│            ┆            ┆           ┆            ┆   ┆            ┆           ┆ ,         ┆      │\n",
      "│            ┆            ┆           ┆            ┆   ┆            ┆           ┆ \"phone2\"] ┆      │\n",
      "└────────────┴────────────┴───────────┴────────────┴───┴────────────┴───────────┴───────────┴──────┘\n"
     ]
    }
   ],
   "source": [
    "ranked_students = (\n",
    "    df_polars\n",
    "    .sort(\"gpa\", descending=True)\n",
    "    .with_columns(\n",
    "        pl.col(\"gpa\")\n",
    "        .rank(\"ordinal\")\n",
    "        .over(\"grade_level\")\n",
    "        .alias(\"rank\")\n",
    "    )\n",
    ")\n",
    "print(ranked_students.filter(pl.col('rank') == 1))"
   ]
  },
  {
   "cell_type": "markdown",
   "id": "3e0640a0-bb7a-4523-8f83-12f2a65a8894",
   "metadata": {},
   "source": [
    "HAVING CLAUSE\n",
    "```SQL\n",
    "SELECT grade_level, COUNT(*) AS num_students\n",
    "FROM students\n",
    "GROUP BY grade_level\n",
    "HAVING COUNT(*) > 100;\n",
    "```"
   ]
  },
  {
   "cell_type": "code",
   "execution_count": 23,
   "id": "1c61f135-99a3-45a4-8f57-7f3f0ce69fbf",
   "metadata": {
    "collapsed": true,
    "jupyter": {
     "outputs_hidden": true
    },
    "tags": []
   },
   "outputs": [
    {
     "name": "stdout",
     "output_type": "stream",
     "text": [
      "shape: (12, 2)\n",
      "┌─────────────┬──────────────┐\n",
      "│ grade_level ┆ num_students │\n",
      "│ ---         ┆ ---          │\n",
      "│ i64         ┆ u32          │\n",
      "╞═════════════╪══════════════╡\n",
      "│ 12          ┆ 83926        │\n",
      "│ 6           ┆ 82980        │\n",
      "│ 3           ┆ 82519        │\n",
      "│ 11          ┆ 83831        │\n",
      "│ 10          ┆ 83790        │\n",
      "│ …           ┆ …            │\n",
      "│ 8           ┆ 83018        │\n",
      "│ 5           ┆ 83862        │\n",
      "│ 7           ┆ 83432        │\n",
      "│ 9           ┆ 83824        │\n",
      "│ 1           ┆ 82926        │\n",
      "└─────────────┴──────────────┘\n"
     ]
    }
   ],
   "source": [
    "grouped_students = (\n",
    "    df_polars\n",
    "    .group_by(\"grade_level\")\n",
    "    .agg(\n",
    "        pl.len().alias(\"num_students\")\n",
    "    )\n",
    "    .filter(pl.col(\"num_students\") > 100)\n",
    ")\n",
    "print(grouped_students)"
   ]
  },
  {
   "cell_type": "markdown",
   "id": "11bddfc7-4b4e-42bf-897d-d9827a31f78e",
   "metadata": {},
   "source": [
    "CASE STATEMENT\n",
    "```SQL\n",
    "SELECT student_id, \n",
    "       gpa, \n",
    "       CASE \n",
    "           WHEN gpa >= 3.5 THEN 'High GPA' \n",
    "           WHEN gpa >= 3.0 THEN 'Medium GPA' \n",
    "           ELSE 'Low GPA' \n",
    "       END AS gpa_category\n",
    "FROM students;\n",
    "```"
   ]
  },
  {
   "cell_type": "code",
   "execution_count": 24,
   "id": "deaa6aa2-1d7e-4768-a43b-0412f0101224",
   "metadata": {
    "collapsed": true,
    "jupyter": {
     "outputs_hidden": true
    },
    "tags": []
   },
   "outputs": [
    {
     "name": "stdout",
     "output_type": "stream",
     "text": [
      "shape: (1_000_000, 15)\n",
      "┌───────────┬───────────┬───────────┬───────────┬───┬───────────┬───────────┬───────────┬──────────┐\n",
      "│ student_i ┆ first_nam ┆ last_name ┆ date_of_b ┆ … ┆ gpa_categ ┆ test_scor ┆ performan ┆ phone_nu │\n",
      "│ d         ┆ e         ┆ ---       ┆ irth      ┆   ┆ ory       ┆ e         ┆ ce        ┆ mbers    │\n",
      "│ ---       ┆ ---       ┆ str       ┆ ---       ┆   ┆ ---       ┆ ---       ┆ ---       ┆ ---      │\n",
      "│ str       ┆ str       ┆           ┆ date      ┆   ┆ str       ┆ i64       ┆ str       ┆ list[str │\n",
      "│           ┆           ┆           ┆           ┆   ┆           ┆           ┆           ┆ ]        │\n",
      "╞═══════════╪═══════════╪═══════════╪═══════════╪═══╪═══════════╪═══════════╪═══════════╪══════════╡\n",
      "│ ST108429  ┆ Isabella  ┆ Johnson   ┆ 1998-10-0 ┆ … ┆ Medium    ┆ 53        ┆ Average   ┆ [\"phone1 │\n",
      "│           ┆           ┆           ┆ 8         ┆   ┆ GPA       ┆           ┆           ┆ \", \"phon │\n",
      "│           ┆           ┆           ┆           ┆   ┆           ┆           ┆           ┆ e2\"]     │\n",
      "│ ST407989  ┆ Noah      ┆ Brown     ┆ 1983-03-2 ┆ … ┆ Low GPA   ┆ 93        ┆ Average   ┆ [\"phone1 │\n",
      "│           ┆           ┆           ┆ 6         ┆   ┆           ┆           ┆           ┆ \", \"phon │\n",
      "│           ┆           ┆           ┆           ┆   ┆           ┆           ┆           ┆ e2\"]     │\n",
      "│ ST928056  ┆ John      ┆ Davis     ┆ 1996-07-1 ┆ … ┆ High GPA  ┆ 80        ┆ Good      ┆ [\"phone1 │\n",
      "│           ┆           ┆           ┆ 0         ┆   ┆           ┆           ┆           ┆ \", \"phon │\n",
      "│           ┆           ┆           ┆           ┆   ┆           ┆           ┆           ┆ e2\"]     │\n",
      "│ ST621243  ┆ Lucas     ┆ Wilson    ┆ 2000-08-0 ┆ … ┆ Low GPA   ┆ 57        ┆ Average   ┆ [\"phone1 │\n",
      "│           ┆           ┆           ┆ 5         ┆   ┆           ┆           ┆           ┆ \", \"phon │\n",
      "│           ┆           ┆           ┆           ┆   ┆           ┆           ┆           ┆ e2\"]     │\n",
      "│ ST605538  ┆ Lucas     ┆ Davis     ┆ 1989-09-0 ┆ … ┆ High GPA  ┆ 86        ┆ Good      ┆ [\"phone1 │\n",
      "│           ┆           ┆           ┆ 4         ┆   ┆           ┆           ┆           ┆ \", \"phon │\n",
      "│           ┆           ┆           ┆           ┆   ┆           ┆           ┆           ┆ e2\"]     │\n",
      "│ …         ┆ …         ┆ …         ┆ …         ┆ … ┆ …         ┆ …         ┆ …         ┆ …        │\n",
      "│ ST295495  ┆ Mason     ┆ Williams  ┆ 2001-06-1 ┆ … ┆ High GPA  ┆ 94        ┆ Excellent ┆ [\"phone1 │\n",
      "│           ┆           ┆           ┆ 5         ┆   ┆           ┆           ┆           ┆ \", \"phon │\n",
      "│           ┆           ┆           ┆           ┆   ┆           ┆           ┆           ┆ e2\"]     │\n",
      "│ ST185607  ┆ Isabella  ┆ Miller    ┆ 1986-05-2 ┆ … ┆ Low GPA   ┆ 74        ┆ Average   ┆ [\"phone1 │\n",
      "│           ┆           ┆           ┆ 8         ┆   ┆           ┆           ┆           ┆ \", \"phon │\n",
      "│           ┆           ┆           ┆           ┆   ┆           ┆           ┆           ┆ e2\"]     │\n",
      "│ ST943966  ┆ Isabella  ┆ Wilson    ┆ 2006-09-2 ┆ … ┆ Low GPA   ┆ 84        ┆ Average   ┆ [\"phone1 │\n",
      "│           ┆           ┆           ┆ 8         ┆   ┆           ┆           ┆           ┆ \", \"phon │\n",
      "│           ┆           ┆           ┆           ┆   ┆           ┆           ┆           ┆ e2\"]     │\n",
      "│ ST140498  ┆ Isabella  ┆ Moore     ┆ 1990-08-1 ┆ … ┆ Low GPA   ┆ 91        ┆ Average   ┆ [\"phone1 │\n",
      "│           ┆           ┆           ┆ 8         ┆   ┆           ┆           ┆           ┆ \", \"phon │\n",
      "│           ┆           ┆           ┆           ┆   ┆           ┆           ┆           ┆ e2\"]     │\n",
      "│ ST324844  ┆ Liam      ┆ Moore     ┆ 1990-12-3 ┆ … ┆ Low GPA   ┆ 67        ┆ Average   ┆ [\"phone1 │\n",
      "│           ┆           ┆           ┆ 1         ┆   ┆           ┆           ┆           ┆ \", \"phon │\n",
      "│           ┆           ┆           ┆           ┆   ┆           ┆           ┆           ┆ e2\"]     │\n",
      "└───────────┴───────────┴───────────┴───────────┴───┴───────────┴───────────┴───────────┴──────────┘\n"
     ]
    }
   ],
   "source": [
    "students_with_category = (\n",
    "    df_polars\n",
    "    .with_columns(\n",
    "        pl.when(pl.col(\"gpa\") >= 3.5)\n",
    "        .then(pl.lit(\"High GPA\"))\n",
    "        .when(pl.col(\"gpa\") >= 3.0)\n",
    "        .then(pl.lit(\"Medium GPA\"))\n",
    "        .otherwise(pl.lit(\"Low GPA\"))\n",
    "        .alias(\"gpa_category\")\n",
    "    )\n",
    ")\n",
    "print(students_with_category)"
   ]
  },
  {
   "cell_type": "code",
   "execution_count": 30,
   "id": "ea3807fb-5485-4510-8876-40bb8d603cec",
   "metadata": {
    "tags": []
   },
   "outputs": [
    {
     "data": {
      "text/html": [
       "<div><style>\n",
       ".dataframe > thead > tr,\n",
       ".dataframe > tbody > tr {\n",
       "  text-align: right;\n",
       "  white-space: pre-wrap;\n",
       "}\n",
       "</style>\n",
       "<small>shape: (1_000_000, 15)</small><table border=\"1\" class=\"dataframe\"><thead><tr><th>student_id</th><th>first_name</th><th>last_name</th><th>date_of_birth</th><th>gender</th><th>grade_level</th><th>email</th><th>phone_number</th><th>address</th><th>enrollment_date</th><th>gpa</th><th>gpa_category</th><th>test_score</th><th>performance</th><th>phone_numbers</th></tr><tr><td>str</td><td>str</td><td>str</td><td>date</td><td>str</td><td>i64</td><td>str</td><td>str</td><td>str</td><td>date</td><td>f64</td><td>str</td><td>i64</td><td>str</td><td>list[str]</td></tr></thead><tbody><tr><td>&quot;ST108429&quot;</td><td>&quot;Isabella&quot;</td><td>&quot;Johnson&quot;</td><td>1998-10-08</td><td>&quot;Other&quot;</td><td>5</td><td>&quot;Ava.Johnson@studentemail.com&quot;</td><td>&quot;+1-837-733-3363&quot;</td><td>&quot;123&nbsp;Main&nbsp;St&quot;</td><td>2021-03-23</td><td>3.07</td><td>&quot;Low&nbsp;GPA&quot;</td><td>53</td><td>&quot;Average&quot;</td><td>[&quot;phone1&quot;,&nbsp;&quot;phone2&quot;]</td></tr><tr><td>&quot;ST407989&quot;</td><td>&quot;Noah&quot;</td><td>&quot;Brown&quot;</td><td>1983-03-26</td><td>&quot;Non-Binary&quot;</td><td>9</td><td>&quot;Mason.Brown@studentemail.com&quot;</td><td>&quot;+1-498-274-0456&quot;</td><td>&quot;456&nbsp;Oak&nbsp;Ave&quot;</td><td>2020-01-25</td><td>1.04</td><td>&quot;Low&nbsp;GPA&quot;</td><td>93</td><td>&quot;Average&quot;</td><td>[&quot;phone1&quot;,&nbsp;&quot;phone2&quot;]</td></tr><tr><td>&quot;ST928056&quot;</td><td>&quot;John&quot;</td><td>&quot;Davis&quot;</td><td>1996-07-10</td><td>&quot;Male&quot;</td><td>11</td><td>&quot;Lucas.Miller@studentemail.com&quot;</td><td>&quot;+1-854-465-1574&quot;</td><td>&quot;101&nbsp;Maple&nbsp;Rd&quot;</td><td>2020-04-16</td><td>3.72</td><td>&quot;High&nbsp;GPA&quot;</td><td>80</td><td>&quot;Good&quot;</td><td>[&quot;phone1&quot;,&nbsp;&quot;phone2&quot;]</td></tr><tr><td>&quot;ST621243&quot;</td><td>&quot;Lucas&quot;</td><td>&quot;Wilson&quot;</td><td>2000-08-05</td><td>&quot;Other&quot;</td><td>9</td><td>&quot;Olivia.Wilson@studentemail.com&quot;</td><td>&quot;+1-253-322-9851&quot;</td><td>&quot;789&nbsp;Pine&nbsp;Ln&quot;</td><td>2020-08-11</td><td>0.93</td><td>&quot;Low&nbsp;GPA&quot;</td><td>57</td><td>&quot;Average&quot;</td><td>[&quot;phone1&quot;,&nbsp;&quot;phone2&quot;]</td></tr><tr><td>&quot;ST605538&quot;</td><td>&quot;Lucas&quot;</td><td>&quot;Davis&quot;</td><td>1989-09-04</td><td>&quot;Other&quot;</td><td>12</td><td>&quot;Isabella.Moore@studentemail.co…</td><td>&quot;+1-729-199-5286&quot;</td><td>&quot;456&nbsp;Oak&nbsp;Ave&quot;</td><td>2020-08-30</td><td>3.61</td><td>&quot;High&nbsp;GPA&quot;</td><td>86</td><td>&quot;Good&quot;</td><td>[&quot;phone1&quot;,&nbsp;&quot;phone2&quot;]</td></tr><tr><td>&hellip;</td><td>&hellip;</td><td>&hellip;</td><td>&hellip;</td><td>&hellip;</td><td>&hellip;</td><td>&hellip;</td><td>&hellip;</td><td>&hellip;</td><td>&hellip;</td><td>&hellip;</td><td>&hellip;</td><td>&hellip;</td><td>&hellip;</td><td>&hellip;</td></tr><tr><td>&quot;ST295495&quot;</td><td>&quot;Mason&quot;</td><td>&quot;Williams&quot;</td><td>2001-06-15</td><td>&quot;Other&quot;</td><td>3</td><td>&quot;John.Jones@studentemail.com&quot;</td><td>&quot;+1-454-456-5146&quot;</td><td>&quot;101&nbsp;Maple&nbsp;Rd&quot;</td><td>2024-07-17</td><td>3.71</td><td>&quot;High&nbsp;GPA&quot;</td><td>94</td><td>&quot;Excellent&quot;</td><td>[&quot;phone1&quot;,&nbsp;&quot;phone2&quot;]</td></tr><tr><td>&quot;ST185607&quot;</td><td>&quot;Isabella&quot;</td><td>&quot;Miller&quot;</td><td>1986-05-28</td><td>&quot;Male&quot;</td><td>9</td><td>&quot;Noah.Miller@studentemail.com&quot;</td><td>&quot;+1-090-645-3172&quot;</td><td>&quot;789&nbsp;Pine&nbsp;Ln&quot;</td><td>2023-09-26</td><td>2.5</td><td>&quot;Low&nbsp;GPA&quot;</td><td>74</td><td>&quot;Average&quot;</td><td>[&quot;phone1&quot;,&nbsp;&quot;phone2&quot;]</td></tr><tr><td>&quot;ST943966&quot;</td><td>&quot;Isabella&quot;</td><td>&quot;Wilson&quot;</td><td>2006-09-28</td><td>&quot;Non-Binary&quot;</td><td>5</td><td>&quot;Mason.Wilson@studentemail.com&quot;</td><td>&quot;+1-726-677-6242&quot;</td><td>&quot;123&nbsp;Main&nbsp;St&quot;</td><td>2024-09-05</td><td>2.34</td><td>&quot;Low&nbsp;GPA&quot;</td><td>84</td><td>&quot;Average&quot;</td><td>[&quot;phone1&quot;,&nbsp;&quot;phone2&quot;]</td></tr><tr><td>&quot;ST140498&quot;</td><td>&quot;Isabella&quot;</td><td>&quot;Moore&quot;</td><td>1990-08-18</td><td>&quot;Male&quot;</td><td>4</td><td>&quot;John.Taylor@studentemail.com&quot;</td><td>&quot;+1-353-095-2274&quot;</td><td>&quot;202&nbsp;Elm&nbsp;St&quot;</td><td>2024-03-29</td><td>1.17</td><td>&quot;Low&nbsp;GPA&quot;</td><td>91</td><td>&quot;Average&quot;</td><td>[&quot;phone1&quot;,&nbsp;&quot;phone2&quot;]</td></tr><tr><td>&quot;ST324844&quot;</td><td>&quot;Liam&quot;</td><td>&quot;Moore&quot;</td><td>1990-12-31</td><td>&quot;Other&quot;</td><td>12</td><td>&quot;Emma.Jones@studentemail.com&quot;</td><td>&quot;+1-580-341-1621&quot;</td><td>&quot;123&nbsp;Main&nbsp;St&quot;</td><td>2020-12-31</td><td>1.2</td><td>&quot;Low&nbsp;GPA&quot;</td><td>67</td><td>&quot;Average&quot;</td><td>[&quot;phone1&quot;,&nbsp;&quot;phone2&quot;]</td></tr></tbody></table></div>"
      ],
      "text/plain": [
       "shape: (1_000_000, 15)\n",
       "┌───────────┬───────────┬───────────┬───────────┬───┬───────────┬───────────┬───────────┬──────────┐\n",
       "│ student_i ┆ first_nam ┆ last_name ┆ date_of_b ┆ … ┆ gpa_categ ┆ test_scor ┆ performan ┆ phone_nu │\n",
       "│ d         ┆ e         ┆ ---       ┆ irth      ┆   ┆ ory       ┆ e         ┆ ce        ┆ mbers    │\n",
       "│ ---       ┆ ---       ┆ str       ┆ ---       ┆   ┆ ---       ┆ ---       ┆ ---       ┆ ---      │\n",
       "│ str       ┆ str       ┆           ┆ date      ┆   ┆ str       ┆ i64       ┆ str       ┆ list[str │\n",
       "│           ┆           ┆           ┆           ┆   ┆           ┆           ┆           ┆ ]        │\n",
       "╞═══════════╪═══════════╪═══════════╪═══════════╪═══╪═══════════╪═══════════╪═══════════╪══════════╡\n",
       "│ ST108429  ┆ Isabella  ┆ Johnson   ┆ 1998-10-0 ┆ … ┆ Low GPA   ┆ 53        ┆ Average   ┆ [\"phone1 │\n",
       "│           ┆           ┆           ┆ 8         ┆   ┆           ┆           ┆           ┆ \", \"phon │\n",
       "│           ┆           ┆           ┆           ┆   ┆           ┆           ┆           ┆ e2\"]     │\n",
       "│ ST407989  ┆ Noah      ┆ Brown     ┆ 1983-03-2 ┆ … ┆ Low GPA   ┆ 93        ┆ Average   ┆ [\"phone1 │\n",
       "│           ┆           ┆           ┆ 6         ┆   ┆           ┆           ┆           ┆ \", \"phon │\n",
       "│           ┆           ┆           ┆           ┆   ┆           ┆           ┆           ┆ e2\"]     │\n",
       "│ ST928056  ┆ John      ┆ Davis     ┆ 1996-07-1 ┆ … ┆ High GPA  ┆ 80        ┆ Good      ┆ [\"phone1 │\n",
       "│           ┆           ┆           ┆ 0         ┆   ┆           ┆           ┆           ┆ \", \"phon │\n",
       "│           ┆           ┆           ┆           ┆   ┆           ┆           ┆           ┆ e2\"]     │\n",
       "│ ST621243  ┆ Lucas     ┆ Wilson    ┆ 2000-08-0 ┆ … ┆ Low GPA   ┆ 57        ┆ Average   ┆ [\"phone1 │\n",
       "│           ┆           ┆           ┆ 5         ┆   ┆           ┆           ┆           ┆ \", \"phon │\n",
       "│           ┆           ┆           ┆           ┆   ┆           ┆           ┆           ┆ e2\"]     │\n",
       "│ ST605538  ┆ Lucas     ┆ Davis     ┆ 1989-09-0 ┆ … ┆ High GPA  ┆ 86        ┆ Good      ┆ [\"phone1 │\n",
       "│           ┆           ┆           ┆ 4         ┆   ┆           ┆           ┆           ┆ \", \"phon │\n",
       "│           ┆           ┆           ┆           ┆   ┆           ┆           ┆           ┆ e2\"]     │\n",
       "│ …         ┆ …         ┆ …         ┆ …         ┆ … ┆ …         ┆ …         ┆ …         ┆ …        │\n",
       "│ ST295495  ┆ Mason     ┆ Williams  ┆ 2001-06-1 ┆ … ┆ High GPA  ┆ 94        ┆ Excellent ┆ [\"phone1 │\n",
       "│           ┆           ┆           ┆ 5         ┆   ┆           ┆           ┆           ┆ \", \"phon │\n",
       "│           ┆           ┆           ┆           ┆   ┆           ┆           ┆           ┆ e2\"]     │\n",
       "│ ST185607  ┆ Isabella  ┆ Miller    ┆ 1986-05-2 ┆ … ┆ Low GPA   ┆ 74        ┆ Average   ┆ [\"phone1 │\n",
       "│           ┆           ┆           ┆ 8         ┆   ┆           ┆           ┆           ┆ \", \"phon │\n",
       "│           ┆           ┆           ┆           ┆   ┆           ┆           ┆           ┆ e2\"]     │\n",
       "│ ST943966  ┆ Isabella  ┆ Wilson    ┆ 2006-09-2 ┆ … ┆ Low GPA   ┆ 84        ┆ Average   ┆ [\"phone1 │\n",
       "│           ┆           ┆           ┆ 8         ┆   ┆           ┆           ┆           ┆ \", \"phon │\n",
       "│           ┆           ┆           ┆           ┆   ┆           ┆           ┆           ┆ e2\"]     │\n",
       "│ ST140498  ┆ Isabella  ┆ Moore     ┆ 1990-08-1 ┆ … ┆ Low GPA   ┆ 91        ┆ Average   ┆ [\"phone1 │\n",
       "│           ┆           ┆           ┆ 8         ┆   ┆           ┆           ┆           ┆ \", \"phon │\n",
       "│           ┆           ┆           ┆           ┆   ┆           ┆           ┆           ┆ e2\"]     │\n",
       "│ ST324844  ┆ Liam      ┆ Moore     ┆ 1990-12-3 ┆ … ┆ Low GPA   ┆ 67        ┆ Average   ┆ [\"phone1 │\n",
       "│           ┆           ┆           ┆ 1         ┆   ┆           ┆           ┆           ┆ \", \"phon │\n",
       "│           ┆           ┆           ┆           ┆   ┆           ┆           ┆           ┆ e2\"]     │\n",
       "└───────────┴───────────┴───────────┴───────────┴───┴───────────┴───────────┴───────────┴──────────┘"
      ]
     },
     "execution_count": 30,
     "metadata": {},
     "output_type": "execute_result"
    }
   ],
   "source": [
    "df_polars"
   ]
  },
  {
   "cell_type": "code",
   "execution_count": null,
   "id": "4937ee0d-1cff-4017-9812-65e4af56badf",
   "metadata": {},
   "outputs": [],
   "source": []
  },
  {
   "cell_type": "code",
   "execution_count": 40,
   "id": "5f1015b9-81d5-478d-88d0-c075fdf94df9",
   "metadata": {
    "tags": []
   },
   "outputs": [],
   "source": [
    "df_polars_out = df_polars.join(df_scores_polars, on=\"student_id\", how=\"left\", suffix=\"_add\")"
   ]
  },
  {
   "cell_type": "code",
   "execution_count": 41,
   "id": "eff0190d-6afd-4a56-a17f-a68d87de7d80",
   "metadata": {
    "tags": []
   },
   "outputs": [
    {
     "data": {
      "text/html": [
       "<div><style>\n",
       ".dataframe > thead > tr,\n",
       ".dataframe > tbody > tr {\n",
       "  text-align: right;\n",
       "  white-space: pre-wrap;\n",
       "}\n",
       "</style>\n",
       "<small>shape: (1_367_563, 12)</small><table border=\"1\" class=\"dataframe\"><thead><tr><th>student_id</th><th>first_name</th><th>last_name</th><th>date_of_birth</th><th>gender</th><th>grade_level</th><th>email</th><th>phone_number</th><th>address</th><th>enrollment_date</th><th>gpa</th><th>test_score</th></tr><tr><td>str</td><td>str</td><td>str</td><td>date</td><td>str</td><td>i64</td><td>str</td><td>str</td><td>str</td><td>date</td><td>f64</td><td>i64</td></tr></thead><tbody><tr><td>&quot;ST001091&quot;</td><td>&quot;Isabella&quot;</td><td>&quot;Smith&quot;</td><td>1988-07-11</td><td>&quot;Male&quot;</td><td>2</td><td>&quot;Ava.Brown@studentemail.com&quot;</td><td>&quot;+1-863-759-8459&quot;</td><td>&quot;456&nbsp;Oak&nbsp;Ave&quot;</td><td>2021-07-05</td><td>1.66</td><td>null</td></tr><tr><td>&quot;ST013021&quot;</td><td>&quot;Olivia&quot;</td><td>&quot;Williams&quot;</td><td>1990-11-18</td><td>&quot;Non-Binary&quot;</td><td>9</td><td>&quot;Ava.Brown@studentemail.com&quot;</td><td>&quot;+1-623-396-8779&quot;</td><td>&quot;101&nbsp;Maple&nbsp;Rd&quot;</td><td>2024-04-05</td><td>3.99</td><td>null</td></tr><tr><td>&quot;ST015863&quot;</td><td>&quot;Mason&quot;</td><td>&quot;Brown&quot;</td><td>1991-10-28</td><td>&quot;Other&quot;</td><td>1</td><td>&quot;Ava.Brown@studentemail.com&quot;</td><td>&quot;+1-690-446-3829&quot;</td><td>&quot;456&nbsp;Oak&nbsp;Ave&quot;</td><td>2021-12-20</td><td>0.89</td><td>null</td></tr><tr><td>&quot;ST022375&quot;</td><td>&quot;Ava&quot;</td><td>&quot;Jones&quot;</td><td>1990-04-25</td><td>&quot;Female&quot;</td><td>4</td><td>&quot;Ava.Brown@studentemail.com&quot;</td><td>&quot;+1-681-921-2360&quot;</td><td>&quot;456&nbsp;Oak&nbsp;Ave&quot;</td><td>2021-02-05</td><td>0.88</td><td>58</td></tr><tr><td>&quot;ST022375&quot;</td><td>&quot;Ava&quot;</td><td>&quot;Jones&quot;</td><td>1990-04-25</td><td>&quot;Female&quot;</td><td>4</td><td>&quot;Ava.Brown@studentemail.com&quot;</td><td>&quot;+1-681-921-2360&quot;</td><td>&quot;456&nbsp;Oak&nbsp;Ave&quot;</td><td>2021-02-05</td><td>0.88</td><td>95</td></tr><tr><td>&hellip;</td><td>&hellip;</td><td>&hellip;</td><td>&hellip;</td><td>&hellip;</td><td>&hellip;</td><td>&hellip;</td><td>&hellip;</td><td>&hellip;</td><td>&hellip;</td><td>&hellip;</td><td>&hellip;</td></tr><tr><td>&quot;ST992507&quot;</td><td>&quot;John&quot;</td><td>&quot;Brown&quot;</td><td>1988-05-07</td><td>&quot;Non-Binary&quot;</td><td>10</td><td>&quot;Isabella.Williams@studentemail…</td><td>&quot;+1-948-637-4533&quot;</td><td>&quot;202&nbsp;Elm&nbsp;St&quot;</td><td>2024-07-13</td><td>3.22</td><td>null</td></tr><tr><td>&quot;ST995737&quot;</td><td>&quot;Liam&quot;</td><td>&quot;Johnson&quot;</td><td>1997-03-28</td><td>&quot;Male&quot;</td><td>9</td><td>&quot;Isabella.Williams@studentemail…</td><td>&quot;+1-233-506-1871&quot;</td><td>&quot;456&nbsp;Oak&nbsp;Ave&quot;</td><td>2023-09-13</td><td>3.58</td><td>83</td></tr><tr><td>&quot;ST998331&quot;</td><td>&quot;Isabella&quot;</td><td>&quot;Williams&quot;</td><td>1984-04-23</td><td>&quot;Female&quot;</td><td>3</td><td>&quot;Isabella.Williams@studentemail…</td><td>&quot;+1-547-126-1190&quot;</td><td>&quot;123&nbsp;Main&nbsp;St&quot;</td><td>2023-04-02</td><td>2.21</td><td>90</td></tr><tr><td>&quot;ST998331&quot;</td><td>&quot;Isabella&quot;</td><td>&quot;Williams&quot;</td><td>1984-04-23</td><td>&quot;Female&quot;</td><td>3</td><td>&quot;Isabella.Williams@studentemail…</td><td>&quot;+1-547-126-1190&quot;</td><td>&quot;123&nbsp;Main&nbsp;St&quot;</td><td>2023-04-02</td><td>2.21</td><td>67</td></tr><tr><td>&quot;ST998936&quot;</td><td>&quot;Sophia&quot;</td><td>&quot;Johnson&quot;</td><td>2000-12-24</td><td>&quot;Male&quot;</td><td>11</td><td>&quot;Isabella.Williams@studentemail…</td><td>&quot;+1-534-257-9392&quot;</td><td>&quot;202&nbsp;Elm&nbsp;St&quot;</td><td>2024-07-01</td><td>1.99</td><td>null</td></tr></tbody></table></div>"
      ],
      "text/plain": [
       "shape: (1_367_563, 12)\n",
       "┌────────────┬────────────┬───────────┬────────────┬───┬────────────┬───────────┬──────┬───────────┐\n",
       "│ student_id ┆ first_name ┆ last_name ┆ date_of_bi ┆ … ┆ address    ┆ enrollmen ┆ gpa  ┆ test_scor │\n",
       "│ ---        ┆ ---        ┆ ---       ┆ rth        ┆   ┆ ---        ┆ t_date    ┆ ---  ┆ e         │\n",
       "│ str        ┆ str        ┆ str       ┆ ---        ┆   ┆ str        ┆ ---       ┆ f64  ┆ ---       │\n",
       "│            ┆            ┆           ┆ date       ┆   ┆            ┆ date      ┆      ┆ i64       │\n",
       "╞════════════╪════════════╪═══════════╪════════════╪═══╪════════════╪═══════════╪══════╪═══════════╡\n",
       "│ ST001091   ┆ Isabella   ┆ Smith     ┆ 1988-07-11 ┆ … ┆ 456 Oak    ┆ 2021-07-0 ┆ 1.66 ┆ null      │\n",
       "│            ┆            ┆           ┆            ┆   ┆ Ave        ┆ 5         ┆      ┆           │\n",
       "│ ST013021   ┆ Olivia     ┆ Williams  ┆ 1990-11-18 ┆ … ┆ 101 Maple  ┆ 2024-04-0 ┆ 3.99 ┆ null      │\n",
       "│            ┆            ┆           ┆            ┆   ┆ Rd         ┆ 5         ┆      ┆           │\n",
       "│ ST015863   ┆ Mason      ┆ Brown     ┆ 1991-10-28 ┆ … ┆ 456 Oak    ┆ 2021-12-2 ┆ 0.89 ┆ null      │\n",
       "│            ┆            ┆           ┆            ┆   ┆ Ave        ┆ 0         ┆      ┆           │\n",
       "│ ST022375   ┆ Ava        ┆ Jones     ┆ 1990-04-25 ┆ … ┆ 456 Oak    ┆ 2021-02-0 ┆ 0.88 ┆ 58        │\n",
       "│            ┆            ┆           ┆            ┆   ┆ Ave        ┆ 5         ┆      ┆           │\n",
       "│ ST022375   ┆ Ava        ┆ Jones     ┆ 1990-04-25 ┆ … ┆ 456 Oak    ┆ 2021-02-0 ┆ 0.88 ┆ 95        │\n",
       "│            ┆            ┆           ┆            ┆   ┆ Ave        ┆ 5         ┆      ┆           │\n",
       "│ …          ┆ …          ┆ …         ┆ …          ┆ … ┆ …          ┆ …         ┆ …    ┆ …         │\n",
       "│ ST992507   ┆ John       ┆ Brown     ┆ 1988-05-07 ┆ … ┆ 202 Elm St ┆ 2024-07-1 ┆ 3.22 ┆ null      │\n",
       "│            ┆            ┆           ┆            ┆   ┆            ┆ 3         ┆      ┆           │\n",
       "│ ST995737   ┆ Liam       ┆ Johnson   ┆ 1997-03-28 ┆ … ┆ 456 Oak    ┆ 2023-09-1 ┆ 3.58 ┆ 83        │\n",
       "│            ┆            ┆           ┆            ┆   ┆ Ave        ┆ 3         ┆      ┆           │\n",
       "│ ST998331   ┆ Isabella   ┆ Williams  ┆ 1984-04-23 ┆ … ┆ 123 Main   ┆ 2023-04-0 ┆ 2.21 ┆ 90        │\n",
       "│            ┆            ┆           ┆            ┆   ┆ St         ┆ 2         ┆      ┆           │\n",
       "│ ST998331   ┆ Isabella   ┆ Williams  ┆ 1984-04-23 ┆ … ┆ 123 Main   ┆ 2023-04-0 ┆ 2.21 ┆ 67        │\n",
       "│            ┆            ┆           ┆            ┆   ┆ St         ┆ 2         ┆      ┆           │\n",
       "│ ST998936   ┆ Sophia     ┆ Johnson   ┆ 2000-12-24 ┆ … ┆ 202 Elm St ┆ 2024-07-0 ┆ 1.99 ┆ null      │\n",
       "│            ┆            ┆           ┆            ┆   ┆            ┆ 1         ┆      ┆           │\n",
       "└────────────┴────────────┴───────────┴────────────┴───┴────────────┴───────────┴──────┴───────────┘"
      ]
     },
     "execution_count": 41,
     "metadata": {},
     "output_type": "execute_result"
    }
   ],
   "source": [
    "df_polars_out"
   ]
  },
  {
   "cell_type": "code",
   "execution_count": 42,
   "id": "2962afec-c9c9-4b3c-bbfa-992acf7238a4",
   "metadata": {
    "tags": []
   },
   "outputs": [],
   "source": [
    "df_polars_out.write_parquet('student_output.parquet')"
   ]
  },
  {
   "cell_type": "code",
   "execution_count": 43,
   "id": "77a731d9-bf64-40de-8377-ceb6e6ce7b1d",
   "metadata": {
    "tags": []
   },
   "outputs": [
    {
     "data": {
      "text/plain": [
       "LoadJob<project=soloyt-youtube, location=US, id=47179fab-0c2b-49bb-a6d0-b6c9886f23a7>"
      ]
     },
     "execution_count": 43,
     "metadata": {},
     "output_type": "execute_result"
    }
   ],
   "source": [
    "job_config = bigquery.LoadJobConfig(\n",
    "    source_format=bigquery.SourceFormat.PARQUET,\n",
    "    write_disposition=bigquery.WriteDisposition.WRITE_TRUNCATE\n",
    ")\n",
    "\n",
    "student_output_id = \"soloyt-youtube.dummy_sets.student_output\"\n",
    "\n",
    "with open(\"student_output.parquet\", \"rb\") as f:\n",
    "    job = client.load_table_from_file(f, student_output_id, job_config=job_config)\n",
    "    \n",
    "job.result()"
   ]
  }
 ],
 "metadata": {
  "environment": {
   "kernel": "python3",
   "name": "common-cu118.m126",
   "type": "gcloud",
   "uri": "us-docker.pkg.dev/deeplearning-platform-release/gcr.io/base-cu118:m126"
  },
  "kernelspec": {
   "display_name": "Python 3",
   "language": "python",
   "name": "python3"
  },
  "language_info": {
   "codemirror_mode": {
    "name": "ipython",
    "version": 3
   },
   "file_extension": ".py",
   "mimetype": "text/x-python",
   "name": "python",
   "nbconvert_exporter": "python",
   "pygments_lexer": "ipython3",
   "version": "3.10.15"
  }
 },
 "nbformat": 4,
 "nbformat_minor": 5
}
